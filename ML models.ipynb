{
 "cells": [
  {
   "cell_type": "code",
   "execution_count": 1,
   "metadata": {},
   "outputs": [],
   "source": [
    "import pandas as pd\n",
    "from sklearn.svm import SVR\n",
    "from sklearn.ensemble import RandomForestRegressor"
   ]
  },
  {
   "cell_type": "code",
   "execution_count": 1,
   "metadata": {},
   "outputs": [],
   "source": [
    "def load_test_file(file):\n",
    "    df = pd.read_csv(file)\n",
    "\n",
    "    #Train data\n",
    "    X = df[df.columns[1:-6]] #needs to change\n",
    "    X = X.astype('float64')\n",
    "\n",
    "    #define y\n",
    "    y = df.solubility #needs to change\n",
    "    print(X.shape)\n",
    "    print(y.shape)\n",
    "    return X, y\n",
    "\n",
    "def load_train_file(file):\n",
    "    df = pd.read_csv(file)\n",
    "\n",
    "    #Train data\n",
    "    X = df[df.columns[1:-6]] #needs to change\n",
    "    X = X.astype('float64')\n",
    "\n",
    "    #define y\n",
    "    y = df.solubility #needs to change\n",
    "    print(X.shape)\n",
    "    print(y.shape)\n",
    "    return X, y\n"
   ]
  },
  {
   "cell_type": "code",
   "execution_count": null,
   "metadata": {},
   "outputs": [],
   "source": [
    "#SVM Linear\n",
    "\n",
    "#Hyper parameter optimization\n",
    "#C_range = [0.0001, 0.001, 0.01, 0.1, 1, 10, 100, 1000]\n",
    "C_range = [0.0001, 0.001, 0.01, 0.1, 1, 10]\n",
    "epsilon_range = [0, 0.01, 0.1, 0.5, 1, 2, 4]\n",
    "param_dict = {\"C\":C_range, \"epsilon\":epsilon_range}\n",
    "\n",
    "#cv = RepeatedStratifiedKFold(n_splits=5, n_repeats=10)\n",
    "\n",
    "#define model\n",
    "model = SVR(kernel='linear')\n",
    "\n",
    "#grid search CV\n",
    "grid_search = GridSearchCV(model, param_grid=param_dict, cv=5, refit=True, scoring='accuracy', verbose=10, n_jobs=-1)\n",
    "m_f = grid_search.fit(X_train, y_train)\n",
    "y_pred = grid_search.predict(X_test)\n",
    "acc = accuracy_score(y_test, y_pred)\n",
    "auc = roc_auc_score(y_test, m_f.decision_function(X_test))\n",
    "\n",
    "print('Accuracy: ', acc)\n",
    "print('Area Under the Curve: ', auc)\n",
    "print('Best C: ', grid_search.best_params_['C'])\n",
    "print('best_estimator_', grid_search.best_estimator_)\n",
    "print('best_score_', grid_search.best_score_)\n",
    "print('best_params_', grid_search.best_params_)\n",
    "print('best_index_', grid_search.best_index_)\n",
    "print('scorer_', grid_search.scorer_)\n",
    "print('n_splits_', grid_search.n_splits_)\n",
    "print('refit_time_', grid_search.refit_time_)\n",
    "print('multimetric_', grid_search.multimetric_)\n",
    "print(grid_search.cv_results_['params'][grid_search.best_index_])\n",
    "plot_roc_curve(grid_search, X_test, y_test)\n",
    "target_names = ['Healthy', 'Infected']\n",
    "rep = classification_report(y_test, y_pred, target_names=target_names)\n",
    "print(rep)"
   ]
  },
  {
   "cell_type": "code",
   "execution_count": 10,
   "metadata": {},
   "outputs": [
    {
     "data": {
      "text/plain": [
       "<seaborn.axisgrid.FacetGrid at 0xe373088>"
      ]
     },
     "execution_count": 10,
     "metadata": {},
     "output_type": "execute_result"
    },
    {
     "data": {
      "image/png": "[encoded data removed]",
      "text/plain": [
       "<Figure size 360x360 with 1 Axes>"
      ]
     },
     "metadata": {
      "needs_background": "light"
     },
     "output_type": "display_data"
    }
   ],
   "source": [
    "#checking the distribution \n",
    "d = pd.read_csv('solubility_values.csv')\n",
    "d.solubility\n",
    "sns.displot(d, x=\"solubility\", binwidth=20)"
   ]
  },
  {
   "cell_type": "code",
   "execution_count": null,
   "metadata": {},
   "outputs": [],
   "source": [
    "# Random Forest\n",
    "\n",
    "max_depth = list(range(1,11))\n",
    "min_samples_leaf = [0.01,0.05,0.1,0.15,0.2,0.25,0.3,0.35,0.4,0.45,0.5]\n",
    "param_dict = {\"max_depth\":max_depth, 'min_samples_leaf': min_samples_leaf}\n",
    "#cv = RepeatedStratifiedKFold(n_splits=5, n_repeats=10)\n",
    "RFmodel = RandomForestRegressor(n_estimators=100, criterion='mse', min_samples_split=2, \n",
    "                                 max_features='sqrt', max_leaf_nodes=None)\n",
    "grid_search = GridSearchCV(RFmodel, param_grid=param_dict, cv=5, refit=True, scoring='accuracy', verbose=50, n_jobs=-1)\n",
    "grid_search.fit(X_train, y_train)\n",
    "y_pred = grid_search.predict(X_test)\n",
    "\n",
    "acc = accuracy_score(y_test, y_pred)\n",
    "print('Accuracy:', acc)\n",
    "\n",
    "print('best_estimator_', grid_search.best_estimator_)\n",
    "print('best_score_', grid_search.best_score_)\n",
    "print('best_params_', grid_search.best_params_)\n",
    "print('best_index_', grid_search.best_index_)\n",
    "print('scorer_', grid_search.scorer_)\n",
    "print('n_splits_', grid_search.n_splits_)\n",
    "print('refit_time_', grid_search.refit_time_)\n",
    "print('multimetric_', grid_search.multimetric_)\n",
    "print(grid_search.cv_results_['params'][grid_search.best_index_])\n",
    "plot_roc_curve(grid_search, X_test, y_test)\n",
    "target_names = ['Healthy', 'Infected']\n",
    "rep = classification_report(y_test, y_pred, target_names=target_names)\n",
    "print(rep)"
   ]
  }
 ],
 "metadata": {
  "kernelspec": {
   "display_name": "Python 3",
   "language": "python",
   "name": "python3"
  },
  "language_info": {
   "codemirror_mode": {
    "name": "ipython",
    "version": 3
   },
   "file_extension": ".py",
   "mimetype": "text/x-python",
   "name": "python",
   "nbconvert_exporter": "python",
   "pygments_lexer": "ipython3",
   "version": "3.7.6"
  }
 },
 "nbformat": 4,
 "nbformat_minor": 4
}
