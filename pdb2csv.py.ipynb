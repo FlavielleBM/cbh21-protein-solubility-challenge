{
 "cells": [
  {
   "cell_type": "code",
   "execution_count": 104,
   "metadata": {},
   "outputs": [
    {
     "output_type": "stream",
     "name": "stdout",
     "text": [
      "Collecting freesasa\n",
      "Installing collected packages: freesasa\n",
      "Successfully installed freesasa-2.1.0\n",
      "\u001b[33mYou are using pip version 18.1, however version 21.0.1 is available.\n",
      "You should consider upgrading via the 'pip install --upgrade pip' command.\u001b[0m\n"
     ]
    }
   ],
   "source": [
    "!pip install --user freesasa"
   ]
  },
  {
   "cell_type": "code",
   "execution_count": null,
   "metadata": {},
   "outputs": [],
   "source": [
    "ROOT_DIR = !pwd"
   ]
  },
  {
   "cell_type": "code",
   "execution_count": 17,
   "metadata": {},
   "outputs": [
    {
     "output_type": "stream",
     "name": "stdout",
     "text": [
      "A\n"
     ]
    }
   ],
   "source": [
    "print('a'.upper())"
   ]
  },
  {
   "cell_type": "code",
   "execution_count": 18,
   "metadata": {
    "tags": []
   },
   "outputs": [
    {
     "output_type": "error",
     "ename": "TabError",
     "evalue": "inconsistent use of tabs and spaces in indentation (<ipython-input-18-cc8ad1adfc4a>, line 84)",
     "traceback": [
      "\u001b[0;36m  File \u001b[0;32m\"<ipython-input-18-cc8ad1adfc4a>\"\u001b[0;36m, line \u001b[0;32m84\u001b[0m\n\u001b[0;31m    print(pdb_path+' failed to extract secondary structure features')\u001b[0m\n\u001b[0m                                                                     ^\u001b[0m\n\u001b[0;31mTabError\u001b[0m\u001b[0;31m:\u001b[0m inconsistent use of tabs and spaces in indentation\n"
     ]
    }
   ],
   "source": [
    "\"\"\" \n",
    "References\n",
    "1. Biopython handbook for more pdb parsing functions: https://biopython.org/wiki/The_Biopython_Structural_Bioinformatics_FAQ\n",
    "2. Deep Learning. structure based solubility prediction: https://jcheminf.biomedcentral.com/articles/10.1186/s13321-021-00488-1\n",
    "3. Features used by another ML based prediction paper: https://bmcbioinformatics.biomedcentral.com/articles/10.1186/1471-2105-15-134/tables/3\n",
    "4. SolArt github: https://github.com/minghuilab/PremPS/blob/e7cf74a467677bad50e20161777ca609362de1e3/v1.0.0/PremPS.py#L304\n",
    "5. SOLart paper: https://academic.oup.com/bioinformatics/article/36/5/1445/5585748\n",
    "\"\"\"\n",
    "\n",
    "# from Bio.PDB.PDBParser import PDBParser\n",
    "# from Bio.PDB import parse_pdb_header\n",
    "\n",
    "from Bio import SeqIO\n",
    "import csv\n",
    "import freesasa\n",
    "import os\n",
    "from os.path import join as join_p\n",
    "import predict\n",
    "\n",
    "ROOT_DIR = os.getcwd()\n",
    "hydrophobic = ['V', 'I', 'L', 'F', 'M', 'W', 'Y', 'C']\n",
    "negatively_charged = ['D', 'E']\n",
    "positively_charged = ['R', 'K']\n",
    "normal_format_pro = ['CYS','GLN','ILE','SER','VAL','MET','ASN','PRO','LYS','THR','PHE','ALA','HIS','GLY','ASP','LEU',\n",
    "                     'ARG','TRP','GLU','TYR']\n",
    "\n",
    "# map residue name three letters to one\n",
    "map_three_one = {\"GLY\": \"G\", \"ALA\": \"A\", \"SER\": \"S\", \"THR\": \"T\", \"CYS\": \"C\",\n",
    "                 \"VAL\": \"V\", \"LEU\": \"L\", \"ILE\": \"I\", \"MET\": \"M\", \"PRO\": \"P\",\n",
    "                 \"PHE\": \"F\", \"TYR\": \"Y\", \"TRP\": \"W\", \"ASP\": \"D\", \"GLU\": \"E\",\n",
    "                 \"ASN\": \"N\", \"GLN\": \"Q\", \"HIS\": \"H\", \"LYS\": \"K\", \"ARG\": \"R\",\n",
    "                 \"ASX\": \"X\", \"GLX\": \"X\", \"CSO\": \"X\", \"HIP\": \"X\", \"MSE\": \"X\",\n",
    "                 \"UNK\": \"X\", \"SEC\": \"X\", \"PYL\": \"X\", \"SEP\": \"X\", \"TPO\": \"X\",\n",
    "                 \"PTR\": \"X\", \"XLE\": \"X\", \"XAA\": \"X\", \"HSD\": \"H\", \"HID\": \"H\",\n",
    "                 \"HSE\": \"H\"}\n",
    "\n",
    "# map residue name one letter to three\n",
    "map_one_three = {\"G\": \"GLY\", \"A\": \"ALA\", \"S\": \"SER\", \"T\": \"THR\", \"C\": \"CYS\",\n",
    "                 \"V\": \"VAL\", \"L\": \"LEU\", \"I\": \"ILE\", \"M\": \"MET\", \"P\": \"PRO\",\n",
    "                 \"F\": \"PHE\", \"Y\": \"TYR\", \"W\": \"TRP\", \"D\": \"ASP\", \"E\": \"GLU\",\n",
    "                 \"N\": \"ASN\", \"Q\": \"GLN\", \"H\": \"HIS\", \"K\": \"LYS\", \"R\": \"ARG\"}\n",
    "\n",
    "# SASA_sol\n",
    "map_surface = {'A':118.1,'R':256.0,'N':165.5,'D':158.7,'C':146.1,'Q':193.2,\n",
    "               'E':186.2,'G':88.1,'H':202.5,'I':181.0,'L':193.1,'K':225.8,\n",
    "               'M':203.4,'F':222.8,'P':146.8,'S':129.8,'T':152.5,'W':266.3,\n",
    "               'Y':236.8,'V':164.5,'X':88.1}\n",
    "\n",
    "global pdb_list, pdb_matrix, solubility_map\n",
    "pdb_list = []\n",
    "pdb_matrix = []\n",
    "solubility_map = {}\n",
    "\n",
    "def generate_pdb_list ():\n",
    "    with open (\"pdb_list.txt\", \"r\") as file:\n",
    "        for line in file:\n",
    "            pdb_list.append(line.strip())\n",
    "\n",
    "def generate_solubility_mapping ():\n",
    "    with open(\"data/training/crystal_structs/solubility_values.csv\", \"r\") as csvfile:\n",
    "        csvreader = csv.reader(csvfile)\n",
    "        next(csvreader)\n",
    "\n",
    "        for row in csvreader:\n",
    "            pdb_name = row[0].strip()\n",
    "            solubility_score = int(row[1].strip())\n",
    "            solubility_map[pdb_name] = solubility_score\n",
    "            \n",
    "def pdb_data_curation():\n",
    "    if pdb_list:\n",
    "        for pdb in pdb_list:\n",
    "            pdb_path = join_p(ROOT_DIR,\"data/training/crystal_structs/\" + pdb)\n",
    "            structure = freesasa.Structure(pdb_path)\n",
    "            result = freesasa.calc(structure)\n",
    "            area_classes = freesasa.classifyResults(result, structure)\n",
    "\n",
    "            with open(pdb_path, 'r') as pdb_file:\n",
    "                \n",
    "                #compute DSSP and related features.\n",
    "                try:\n",
    "                    sec_str_based_features=predict.compute_dssp_based(pdb_path)\n",
    "                except Exception as e:\n",
    "                    print(pdb_path+' failed to extract secondary structure features')\n",
    "                    print(e)\n",
    "\n",
    "                for record in SeqIO.parse(pdb_file, 'pdb-atom'):\n",
    "                    seq = str(record.seq)\n",
    "                    LysArg, AspGlu, AspGluLysArg, PheTyrTrp = calculate_aa_combos(seq)\n",
    "                    pdb_name = pdb.rstrip(\".pdb\")\n",
    "                    new_feats = {\"PDB File\": pdb_name, \"Solubility Score\": solubility_map[pdb_name] , \"Sequence\": seq, \"Length\": len(seq) , \n",
    "                                       \"Lys+Arg/Len\":LysArg, \"Asp+Glu/Len\":AspGlu, \"Asp+Glu+Lys+Arg/Len\":AspGluLysArg, \n",
    "                                       \"Phe+Tyr+Trp/Len\": PheTyrTrp,\n",
    "                                       \"Polar\": area_classes['Polar'],\n",
    "                                       \"Apolar\": area_classes['Apolar']}\n",
    "                    new_feats.update(sec_str_based_features)\n",
    "                    pdb_matrix.append(new_feats)\n",
    "    else:\n",
    "        print(\"Pdb list is empty\")\n",
    "    \n",
    "def calculate_aa_combos (sequence):\n",
    "    seq_length = len(sequence)\n",
    "    \n",
    "    lys_arg = round((sequence.count(\"K\") + sequence.count(\"R\")) /seq_length, 3)\n",
    "    asp_glu = round((sequence.count(\"D\") + sequence.count(\"E\")) /seq_length, 3)\n",
    "    asp_glu_lys_arg = round(lys_arg + asp_glu, 3)           \n",
    "    phe_tyr_trp = round((sequence.count(\"F\")+ sequence.count(\"Y\") + sequence.count(\"W\")) /seq_length, 3)\n",
    "            \n",
    "    return lys_arg, asp_glu, asp_glu_lys_arg, phe_tyr_trp\n",
    "\n",
    "def pdb_to_csv ():\n",
    "    csv_columns = list(pdb_matrix[0].keys())\n",
    "    csv_file = join_p(ROOT_DIR,\"pdb2csv_v2.csv\")\n",
    "    try:\n",
    "        with open(csv_file, 'w') as csvfile:\n",
    "            writer = csv.DictWriter(csvfile, fieldnames=csv_columns)\n",
    "            writer.writeheader()\n",
    "            for data in pdb_matrix:\n",
    "                writer.writerow(data)\n",
    "    except IOError:\n",
    "        print(\"I/O error\")\n",
    "\n",
    "\"\"\" Kindly Note: I have left place holders for features that we need to add. \n",
    "If you have the time and bandwidth kindly add features via functions\"\"\"\n",
    "\n",
    "# def isolectric_point():\n",
    "# def steric parameters():\n",
    "# def hydrophobicity():\n",
    "# def volume ():\n",
    "# def polarizability():\n",
    "# def isoelectric point():\n",
    "# def helix probability():\n",
    "# def sheet probability():\n",
    "\n",
    "def main():\n",
    "    generate_pdb_list()\n",
    "    generate_solubility_mapping()\n",
    "    pdb_data_curation()\n",
    "    pdb_to_csv()\n",
    "\n",
    "if __name__ == '__main__':\n",
    "    main()"
   ]
  },
  {
   "cell_type": "code",
   "execution_count": null,
   "metadata": {},
   "outputs": [],
   "source": []
  },
  {
   "cell_type": "code",
   "execution_count": 25,
   "metadata": {},
   "outputs": [
    {
     "output_type": "stream",
     "name": "stdout",
     "text": [
      "Collecting DSSPparser\n",
      "Requirement already satisfied: pandas in /home/sadali/configurations-linux/dotfiles/.local/lib/python3.6/site-packages (from DSSPparser) (1.1.5)\n",
      "Requirement already satisfied: requests in /usr/lib/python3/dist-packages (from DSSPparser) (2.18.4)\n",
      "Requirement already satisfied: python-dateutil>=2.7.3 in /home/sadali/configurations-linux/dotfiles/.local/lib/python3.6/site-packages (from pandas->DSSPparser) (2.8.1)\n",
      "Requirement already satisfied: numpy>=1.15.4 in /home/sadali/configurations-linux/dotfiles/.local/lib/python3.6/site-packages (from pandas->DSSPparser) (1.19.5)\n",
      "Requirement already satisfied: pytz>=2017.2 in /usr/local/lib/python3.6/dist-packages/pytz-2019.3-py3.6.egg (from pandas->DSSPparser) (2019.3)\n",
      "Requirement already satisfied: six>=1.5 in /usr/lib/python3/dist-packages (from python-dateutil>=2.7.3->pandas->DSSPparser) (1.11.0)\n",
      "Installing collected packages: DSSPparser\n",
      "Successfully installed DSSPparser-0.12\n",
      "\u001b[33mYou are using pip version 18.1, however version 21.0.1 is available.\n",
      "You should consider upgrading via the 'pip install --upgrade pip' command.\u001b[0m\n"
     ]
    }
   ],
   "source": [
    "!pip install  --user DSSPparser"
   ]
  },
  {
   "cell_type": "code",
   "execution_count": 31,
   "metadata": {},
   "outputs": [
    {
     "output_type": "stream",
     "name": "stdout",
     "text": [
      "    resnum inscode chain aa struct structdetails bp1 bp2  acc   h_nho1  ...  \\\n0        1       1     A  M                >       0   0  110   0, 0.0  ...   \n1        2       2     A  D      H      H  >  +    0   0  129   2,-0.2  ...   \n2        3       3     A  L      H      H  > S+    0   0   81   2,-0.2  ...   \n3        4       4     A  A      H      H  > S+    0   0   61   2,-0.2  ...   \n4        5       5     A  S      H      H  X S+    0   0   67  -4,-1.6  ...   \n..     ...     ...   ... ..    ...           ...  ..  ..  ...      ...  ...   \n203    204     204     A  W      H      H  X S+    0   0   74  -4,-3.1  ...   \n204    205     205     A  A      H      H  < S+    0   0    0  -4,-2.1  ...   \n205    206     206     A  D      H      H  < S+    0   0   49  -4,-1.8  ...   \n206    207     207     A  A      H      H  <       0   0   68  -4,-1.7  ...   \n207    208     208     A  V                <       0   0   44  -4,-2.0  ...   \n\n       tco  kappa  alpha    phi    psi   xca   yca    zca rcsb_given_chain  \\\n0    0.000  360.0  360.0  360.0   92.1  42.9  50.3  -19.2                    \n1    0.714  360.0   58.5  -62.9  -25.5  43.4  49.9  -15.4                    \n2    0.826  104.6   44.7  -72.9  -40.0  45.3  53.2  -16.1                    \n3    0.840  115.3   47.8  -75.9  -32.5  42.4  55.0  -17.6                    \n4    0.721  108.1   56.6  -80.6  -17.8  40.0  53.9  -14.8                    \n..     ...    ...    ...    ...    ...   ...   ...    ...              ...   \n203  0.908  110.5   55.0  -63.3  -45.8  54.2  62.2   16.9                    \n204  0.887  111.5   44.7  -58.1  -39.8  53.2  60.2   13.9                    \n205  0.818  109.7   56.9  -68.0  -34.3  56.7  60.7   12.4                    \n206  0.847  360.0  360.0  -73.1  -34.9  58.4  59.9   15.7                    \n207  0.958  360.0  360.0  -76.0  360.0  56.8  56.4   16.1                    \n\n    author_given_chain  \n0                       \n1                       \n2                       \n3                       \n4                       \n..                 ...  \n203                     \n204                     \n205                     \n206                     \n207                     \n\n[208 rows x 23 columns]\n"
     ]
    }
   ],
   "source": [
    "    #import DSSPparser\n",
    "    #import DSSParser\n",
    "    #import DSSparser\n",
    "    from DSSPparser import parseDSSP\n",
    "    dssp_file = \"/home/sadali/projects/copenhagen_bio_hackathon/cbh21-protein-solubility-challenge/data/training/crystal_structs/dssp_out/B7MIY4.pdb.dssp\"\n",
    "    parse_dssp = parseDSSP(dssp_file)\n",
    "    parse_dssp.parse()\n",
    "\n",
    "\n",
    "    pddict = parse_dssp.dictTodataframe()\n",
    "    print(pddict)\n"
   ]
  },
  {
   "cell_type": "code",
   "execution_count": 13,
   "metadata": {},
   "outputs": [
    {
     "output_type": "execute_result",
     "data": {
      "text/plain": [
       "<module 'predict' from '/home/sadali/projects/copenhagen_bio_hackathon/cbh21-protein-solubility-challenge/predict.py'>"
      ]
     },
     "metadata": {},
     "execution_count": 13
    }
   ],
   "source": [
    "import importlib\n",
    "import predict\n",
    "#from predict import compute_dssp_based\n",
    "importlib.reload(predict)"
   ]
  },
  {
   "cell_type": "code",
   "execution_count": 101,
   "metadata": {},
   "outputs": [
    {
     "output_type": "stream",
     "name": "stdout",
     "text": [
      "DSSP run:\n /usr/bin/mkdssp -i /home/sadali/projects/copenhagen_bio_hackathon/cbh21-protein-solubility-challenge/data/training/crystal_structs/A0A140NA.pdb -o /tmp/A0A140NA.pdb/A0A140NA.dssp\nDSSP ret code 0\n{'A'}\ndefaultdict(None, {'': ['exposed', 'mod_buried', 'buried', 'mod_buried', 'mod_buried', 'mod_buried', 'mod_buried', 'buried', 'mod_buried', 'exposed', 'mod_buried', 'buried', 'exposed', 'buried', 'mod_buried', 'mod_buried', 'exposed'], 'E': ['exposed', 'mod_buried', 'mod_buried', 'mod_buried', 'mod_buried', 'mod_buried', 'mod_buried', 'buried', 'buried', 'mod_buried', 'buried', 'mod_buried', 'buried', 'buried', 'buried', 'buried', 'buried', 'mod_buried', 'mod_buried', 'buried', 'buried', 'buried', 'buried', 'buried', 'mod_buried', 'buried', 'mod_buried'], 'H': ['exposed', 'mod_buried', 'buried', 'mod_buried', 'exposed', 'buried', 'buried', 'exposed', 'mod_buried', 'buried', 'exposed', 'exposed', 'buried', 'exposed', 'mod_buried', 'buried', 'exposed', 'exposed', 'buried', 'buried', 'mod_buried', 'buried', 'buried', 'mod_buried', 'mod_buried', 'exposed', 'mod_buried', 'buried', 'mod_buried'], 'T': ['exposed', 'exposed', 'exposed', 'exposed', 'exposed', 'exposed', 'exposed', 'exposed'], 'S': ['exposed', 'exposed', 'exposed'], 'G': ['exposed', 'exposed', 'buried', 'exposed', 'exposed', 'buried']})\n"
     ]
    },
    {
     "output_type": "execute_result",
     "data": {
      "text/plain": [
       "defaultdict(float,\n",
       "            {'helix_buried': 0.022540983606557378,\n",
       "             'helix_mod_buried': 0.018442622950819672,\n",
       "             'helix_exposed': 0.018442622950819672,\n",
       "             'beta_buried': 0.0,\n",
       "             'beta_mod_buried': 0.0,\n",
       "             'beta_exposed': 0.0,\n",
       "             'coil_buried': 0.0,\n",
       "             'coil_mod_buried': 0.0,\n",
       "             'coil_exposed': 0.0,\n",
       "             'buried_A': 0.004098360655737705,\n",
       "             'mod_buried_A': 0.0020491803278688526,\n",
       "             'exposed_A': 0.004098360655737705,\n",
       "             'buried_R': 0.0020491803278688526,\n",
       "             'mod_buried_R': 0.006147540983606557,\n",
       "             'exposed_R': 0.0020491803278688526,\n",
       "             'buried_N': 0,\n",
       "             'mod_buried_N': 0,\n",
       "             'exposed_N': 0.006147540983606557,\n",
       "             'buried_D': 0.004098360655737705,\n",
       "             'mod_buried_D': 0.004098360655737705,\n",
       "             'exposed_D': 0.006147540983606557,\n",
       "             'buried_C': 0,\n",
       "             'mod_buried_C': 0,\n",
       "             'exposed_C': 0,\n",
       "             'buried_Q': 0,\n",
       "             'mod_buried_Q': 0.0020491803278688526,\n",
       "             'exposed_Q': 0.006147540983606557,\n",
       "             'buried_E': 0.0020491803278688526,\n",
       "             'mod_buried_E': 0.004098360655737705,\n",
       "             'exposed_E': 0,\n",
       "             'buried_G': 0,\n",
       "             'mod_buried_G': 0.0020491803278688526,\n",
       "             'exposed_G': 0.00819672131147541,\n",
       "             'buried_H': 0,\n",
       "             'mod_buried_H': 0.006147540983606557,\n",
       "             'exposed_H': 0.0020491803278688526,\n",
       "             'buried_I': 0.004098360655737705,\n",
       "             'mod_buried_I': 0.004098360655737705,\n",
       "             'exposed_I': 0,\n",
       "             'buried_L': 0.020491803278688523,\n",
       "             'mod_buried_L': 0.006147540983606557,\n",
       "             'exposed_L': 0,\n",
       "             'buried_K': 0,\n",
       "             'mod_buried_K': 0.006147540983606557,\n",
       "             'exposed_K': 0.014344262295081968,\n",
       "             'buried_M': 0.004098360655737705,\n",
       "             'mod_buried_M': 0,\n",
       "             'exposed_M': 0,\n",
       "             'buried_F': 0.0020491803278688526,\n",
       "             'mod_buried_F': 0.0020491803278688526,\n",
       "             'exposed_F': 0,\n",
       "             'buried_P': 0,\n",
       "             'mod_buried_P': 0.004098360655737705,\n",
       "             'exposed_P': 0.004098360655737705,\n",
       "             'buried_S': 0.0020491803278688526,\n",
       "             'mod_buried_S': 0.0020491803278688526,\n",
       "             'exposed_S': 0.0020491803278688526,\n",
       "             'buried_T': 0.0020491803278688526,\n",
       "             'mod_buried_T': 0.00819672131147541,\n",
       "             'exposed_T': 0,\n",
       "             'buried_W': 0.004098360655737705,\n",
       "             'mod_buried_W': 0,\n",
       "             'exposed_W': 0,\n",
       "             'buried_Y': 0.00819672131147541,\n",
       "             'mod_buried_Y': 0.0020491803278688526,\n",
       "             'exposed_Y': 0.0020491803278688526,\n",
       "             'buried_V': 0.004098360655737705,\n",
       "             'mod_buried_V': 0,\n",
       "             'exposed_V': 0.0020491803278688526,\n",
       "             'buried_X': 0,\n",
       "             'mod_buried_X': 0,\n",
       "             'exposed_X': 0})"
      ]
     },
     "metadata": {},
     "execution_count": 101
    }
   ],
   "source": [
    "import os\n",
    "\n",
    "from os.path import join as join_p\n",
    "import DSSPparser\n",
    "map_surface = {'A': 118.1, 'R': 256.0, 'N': 165.5, 'D': 158.7, 'C': 146.1, 'Q': 193.2,\n",
    "               'E': 186.2, 'G': 88.1, 'H': 202.5, 'I': 181.0, 'L': 193.1, 'K': 225.8,\n",
    "               'M': 203.4, 'F': 222.8, 'P': 146.8, 'S': 129.8, 'T': 152.5, 'W': 266.3,\n",
    "               'Y': 236.8, 'V': 164.5, 'X': 88.1}\n",
    "\n",
    "DSSP_codes = {\"H\" # = α-helix\n",
    "              \"B\", #= residue in isolated β-bridge\n",
    "              \"E\",  # = extended strand, participates in β ladder\n",
    "              \"G\",  # = 3-helix(310 helix)\n",
    "              \"I\",  # = 5 helix(π-helix)\n",
    "              \"T\",  # = hydrogen bonded turn\n",
    "              \"S\",  # = bend\n",
    "}\n",
    "\n",
    "predict.compute_dssp_based(join_p(\"/home/sadali\",\"projects/copenhagen_bio_hackathon/cbh21-protein-solubility-challenge\",\"data/training/crystal_structs\",\"A0A140NA.pdb\"))\n"
   ]
  },
  {
   "cell_type": "code",
   "execution_count": null,
   "metadata": {},
   "outputs": [],
   "source": []
  }
 ],
 "metadata": {
  "kernelspec": {
   "display_name": "Python 3",
   "language": "python",
   "name": "python3"
  },
  "language_info": {
   "codemirror_mode": {
    "name": "ipython",
    "version": 3
   },
   "file_extension": ".py",
   "mimetype": "text/x-python",
   "name": "python",
   "nbconvert_exporter": "python",
   "pygments_lexer": "ipython3",
   "version": "3.8.8-final"
  }
 },
 "nbformat": 4,
 "nbformat_minor": 4
}